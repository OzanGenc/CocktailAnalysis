{
  "nbformat": 4,
  "nbformat_minor": 0,
  "metadata": {
    "colab": {
      "name": "CocktailDbStreaming.ipynb",
      "provenance": [],
      "collapsed_sections": []
    },
    "kernelspec": {
      "name": "python3",
      "display_name": "Python 3"
    }
  },
  "cells": [
    {
      "cell_type": "markdown",
      "metadata": {
        "id": "mWKFac8P6h-v"
      },
      "source": [
        "In this notebook, data of cocktails are streamed using API of TheCocktailDB.com. The API enables listing the cocktails by first letter. Therefore, listings for all alphanumerical characters have been done. "
      ]
    },
    {
      "cell_type": "code",
      "metadata": {
        "id": "zO1niOkXMF53"
      },
      "source": [
        "import requests\n",
        "import pandas as pd\n",
        "import string"
      ],
      "execution_count": null,
      "outputs": []
    },
    {
      "cell_type": "code",
      "metadata": {
        "colab": {
          "base_uri": "https://localhost:8080/",
          "height": 35
        },
        "id": "sqB8ybRuYR-C",
        "outputId": "801ecdeb-b0b7-44c5-e672-651655100e0c"
      },
      "source": [
        "#The first 36 caharacters are the list of alphanumerical\n",
        "string.printable"
      ],
      "execution_count": null,
      "outputs": [
        {
          "output_type": "execute_result",
          "data": {
            "application/vnd.google.colaboratory.intrinsic+json": {
              "type": "string"
            },
            "text/plain": [
              "'0123456789abcdefghijklmnopqrstuvwxyzABCDEFGHIJKLMNOPQRSTUVWXYZ!\"#$%&\\'()*+,-./:;<=>?@[\\\\]^_`{|}~ \\t\\n\\r\\x0b\\x0c'"
            ]
          },
          "metadata": {
            "tags": []
          },
          "execution_count": 2
        }
      ]
    },
    {
      "cell_type": "code",
      "metadata": {
        "id": "jgcMBV7ZUGnL"
      },
      "source": [
        "def create_url_list():\n",
        "\n",
        "  url_list = []\n",
        "  main_url = 'https://www.thecocktaildb.com/api/json/v1/1/search.php?f='\n",
        "\n",
        "  for i in (string.printable[:36]):\n",
        "\n",
        "    url_list.append(main_url+i)\n",
        "\n",
        "  return url_list"
      ],
      "execution_count": null,
      "outputs": []
    },
    {
      "cell_type": "code",
      "metadata": {
        "id": "8L_A11-VVlSK"
      },
      "source": [
        "url_list = create_url_list()"
      ],
      "execution_count": null,
      "outputs": []
    },
    {
      "cell_type": "code",
      "metadata": {
        "id": "sNtC7G4IOh30"
      },
      "source": [
        "def get_ingredients(cocktail_dict):\n",
        "\n",
        "  ingredient = cocktail_dict['strIngredient1']\n",
        "  i = 2\n",
        "\n",
        "  ingredient_list = \"\"\n",
        "\n",
        "  while ingredient:\n",
        "\n",
        "    ingredient_list = ingredient + \", \" + ingredient_list\n",
        "    ingredient = cocktail_dict['strIngredient'+str(i)]\n",
        "  \n",
        "    i = i+1\n",
        "\n",
        "  return ingredient_list"
      ],
      "execution_count": null,
      "outputs": []
    },
    {
      "cell_type": "code",
      "metadata": {
        "id": "LcEs--H4MG3V"
      },
      "source": [
        "cocktails_list = []\n",
        "\n",
        "for url in url_list:\n",
        "\n",
        "  r = requests.get(url)\n",
        "\n",
        "\n",
        "  if r.json()['drinks']:\n",
        "\n",
        "    for cocktail_dict in r.json()['drinks']: \n",
        "\n",
        "      cocktail = {}\n",
        "      cocktail['Cocktail Name'] = cocktail_dict['strDrink']\n",
        "      cocktail['Ingredients'] = get_ingredients(cocktail_dict)\n",
        "      cocktail['Preparation'] = cocktail_dict['strInstructions']\n",
        "\n",
        "      cocktails_list.append(cocktail)\n"
      ],
      "execution_count": null,
      "outputs": []
    },
    {
      "cell_type": "code",
      "metadata": {
        "id": "zZaKgECuMG7H"
      },
      "source": [
        "cocktail_df = pd.DataFrame(cocktails_list)"
      ],
      "execution_count": null,
      "outputs": []
    },
    {
      "cell_type": "code",
      "metadata": {
        "id": "jm0rj6OoX7ho"
      },
      "source": [
        "cocktail_df.to_csv('cocktails_db.csv', index=False)"
      ],
      "execution_count": null,
      "outputs": []
    },
    {
      "cell_type": "code",
      "metadata": {
        "colab": {
          "base_uri": "https://localhost:8080/",
          "height": 419
        },
        "id": "KnPQbXWAYCMs",
        "outputId": "da5255b0-9063-42bc-d139-3f82cae09b4c"
      },
      "source": [
        "cocktail_df"
      ],
      "execution_count": null,
      "outputs": [
        {
          "output_type": "execute_result",
          "data": {
            "text/html": [
              "<div>\n",
              "<style scoped>\n",
              "    .dataframe tbody tr th:only-of-type {\n",
              "        vertical-align: middle;\n",
              "    }\n",
              "\n",
              "    .dataframe tbody tr th {\n",
              "        vertical-align: top;\n",
              "    }\n",
              "\n",
              "    .dataframe thead th {\n",
              "        text-align: right;\n",
              "    }\n",
              "</style>\n",
              "<table border=\"1\" class=\"dataframe\">\n",
              "  <thead>\n",
              "    <tr style=\"text-align: right;\">\n",
              "      <th></th>\n",
              "      <th>Cocktail Name</th>\n",
              "      <th>Ingredients</th>\n",
              "      <th>Preparation</th>\n",
              "    </tr>\n",
              "  </thead>\n",
              "  <tbody>\n",
              "    <tr>\n",
              "      <th>0</th>\n",
              "      <td>155 Belmont</td>\n",
              "      <td>Orange juice,Vodka,Light rum,Dark rum,</td>\n",
              "      <td>Blend with ice. Serve in a wine glass. Garnish...</td>\n",
              "    </tr>\n",
              "    <tr>\n",
              "      <th>1</th>\n",
              "      <td>1-900-FUK-MEUP</td>\n",
              "      <td>Pineapple juice,Cranberry juice,Amaretto,Malib...</td>\n",
              "      <td>Shake ingredients in a mixing tin filled with ...</td>\n",
              "    </tr>\n",
              "    <tr>\n",
              "      <th>2</th>\n",
              "      <td>110 in the shade</td>\n",
              "      <td>Tequila,Lager,</td>\n",
              "      <td>Drop shooter in glass. Fill with beer</td>\n",
              "    </tr>\n",
              "    <tr>\n",
              "      <th>3</th>\n",
              "      <td>151 Florida Bushwacker</td>\n",
              "      <td>Vanilla ice-cream,Coconut liqueur,Milk,Cointre...</td>\n",
              "      <td>Combine all ingredients. Blend until smooth. G...</td>\n",
              "    </tr>\n",
              "    <tr>\n",
              "      <th>4</th>\n",
              "      <td>252</td>\n",
              "      <td>Wild Turkey,151 proof rum,</td>\n",
              "      <td>Add both ingredients to shot glass, shoot, and...</td>\n",
              "    </tr>\n",
              "    <tr>\n",
              "      <th>...</th>\n",
              "      <td>...</td>\n",
              "      <td>...</td>\n",
              "      <td>...</td>\n",
              "    </tr>\n",
              "    <tr>\n",
              "      <th>421</th>\n",
              "      <td>Zima Blaster</td>\n",
              "      <td>Chambord raspberry liqueur,Zima,</td>\n",
              "      <td>Fill glass with ice. Pour in Chambord, then fi...</td>\n",
              "    </tr>\n",
              "    <tr>\n",
              "      <th>422</th>\n",
              "      <td>Zizi Coin-coin</td>\n",
              "      <td>Lemon,Ice,Lemon juice,Cointreau,</td>\n",
              "      <td>Pour 5cl of Cointreau on ice, add 2cl of fresh...</td>\n",
              "    </tr>\n",
              "    <tr>\n",
              "      <th>423</th>\n",
              "      <td>Zippy's Revenge</td>\n",
              "      <td>Kool-Aid,Rum,Amaretto,</td>\n",
              "      <td>Mix Kool-Aid to taste then add Rum and ammaret...</td>\n",
              "    </tr>\n",
              "    <tr>\n",
              "      <th>424</th>\n",
              "      <td>Zimadori Zinger</td>\n",
              "      <td>Zima,Midori melon liqueur,</td>\n",
              "      <td>Pour Zima in a collins glass over ice and then...</td>\n",
              "    </tr>\n",
              "    <tr>\n",
              "      <th>425</th>\n",
              "      <td>Ziemes Martini Apfelsaft</td>\n",
              "      <td>Apple juice,Vermouth,</td>\n",
              "      <td>Serve without ice. At least the juice shold ha...</td>\n",
              "    </tr>\n",
              "  </tbody>\n",
              "</table>\n",
              "<p>426 rows × 3 columns</p>\n",
              "</div>"
            ],
            "text/plain": [
              "                Cocktail Name  ...                                        Preparation\n",
              "0                 155 Belmont  ...  Blend with ice. Serve in a wine glass. Garnish...\n",
              "1              1-900-FUK-MEUP  ...  Shake ingredients in a mixing tin filled with ...\n",
              "2            110 in the shade  ...              Drop shooter in glass. Fill with beer\n",
              "3      151 Florida Bushwacker  ...  Combine all ingredients. Blend until smooth. G...\n",
              "4                         252  ...  Add both ingredients to shot glass, shoot, and...\n",
              "..                        ...  ...                                                ...\n",
              "421              Zima Blaster  ...  Fill glass with ice. Pour in Chambord, then fi...\n",
              "422            Zizi Coin-coin  ...  Pour 5cl of Cointreau on ice, add 2cl of fresh...\n",
              "423           Zippy's Revenge  ...  Mix Kool-Aid to taste then add Rum and ammaret...\n",
              "424           Zimadori Zinger  ...  Pour Zima in a collins glass over ice and then...\n",
              "425  Ziemes Martini Apfelsaft  ...  Serve without ice. At least the juice shold ha...\n",
              "\n",
              "[426 rows x 3 columns]"
            ]
          },
          "metadata": {
            "tags": []
          },
          "execution_count": 18
        }
      ]
    },
    {
      "cell_type": "code",
      "metadata": {
        "id": "NU45OMuQb4LL"
      },
      "source": [
        "cocktails_df1 = pd.read_csv('cocktails.csv')\n",
        "cocktails_df2 = pd.read_csv('cocktails_db.csv')"
      ],
      "execution_count": null,
      "outputs": []
    },
    {
      "cell_type": "code",
      "metadata": {
        "colab": {
          "base_uri": "https://localhost:8080/",
          "height": 657
        },
        "id": "SYtswsYKcJb4",
        "outputId": "c4702adc-7592-4c64-ffa8-5e7dbf317947"
      },
      "source": [
        "cocktails_df1"
      ],
      "execution_count": null,
      "outputs": [
        {
          "output_type": "execute_result",
          "data": {
            "text/html": [
              "<div>\n",
              "<style scoped>\n",
              "    .dataframe tbody tr th:only-of-type {\n",
              "        vertical-align: middle;\n",
              "    }\n",
              "\n",
              "    .dataframe tbody tr th {\n",
              "        vertical-align: top;\n",
              "    }\n",
              "\n",
              "    .dataframe thead th {\n",
              "        text-align: right;\n",
              "    }\n",
              "</style>\n",
              "<table border=\"1\" class=\"dataframe\">\n",
              "  <thead>\n",
              "    <tr style=\"text-align: right;\">\n",
              "      <th></th>\n",
              "      <th>Cocktail Name</th>\n",
              "      <th>Bartender</th>\n",
              "      <th>Bar/Company</th>\n",
              "      <th>Location</th>\n",
              "      <th>Ingredients</th>\n",
              "      <th>Garnish</th>\n",
              "      <th>Glassware</th>\n",
              "      <th>Preparation</th>\n",
              "      <th>Notes</th>\n",
              "    </tr>\n",
              "  </thead>\n",
              "  <tbody>\n",
              "    <tr>\n",
              "      <th>0</th>\n",
              "      <td>Flor de Amaras</td>\n",
              "      <td>Kelly McCarthy</td>\n",
              "      <td>NaN</td>\n",
              "      <td>Boston</td>\n",
              "      <td>1.5 oz Mezcal, 1 oz Hibiscus Simple Syrup*, .5...</td>\n",
              "      <td>Marigold Petals</td>\n",
              "      <td>NaN</td>\n",
              "      <td>*Hibiscus Simple Syrup:\\n1:1 w/ a cup of dried...</td>\n",
              "      <td>NaN</td>\n",
              "    </tr>\n",
              "    <tr>\n",
              "      <th>1</th>\n",
              "      <td>The Happy Place</td>\n",
              "      <td>Elizabeth Montana</td>\n",
              "      <td>Forgery &amp; Verso</td>\n",
              "      <td>San Francisco</td>\n",
              "      <td>2 oz Junipero Gin, .75 oz House-made Cranberry...</td>\n",
              "      <td>Dehydrated Lemon Wheel, Sprig of Rosemary</td>\n",
              "      <td>NaN</td>\n",
              "      <td>*House-made Cranberry syrup: \\n-- 2 cups Fresh...</td>\n",
              "      <td>Junipero Gin 20th Anniversary Signature Cocktail</td>\n",
              "    </tr>\n",
              "    <tr>\n",
              "      <th>2</th>\n",
              "      <td>Bon Voyage Pisco Punch</td>\n",
              "      <td>Jon Morales</td>\n",
              "      <td>NaN</td>\n",
              "      <td>San Francisco</td>\n",
              "      <td>1500 ml BarSol Selecto Italia Pisco, 750 ml Le...</td>\n",
              "      <td>NaN</td>\n",
              "      <td>Punch Bowl</td>\n",
              "      <td>*Pineapple Gomme: \\nMix equal parts (1.5 cups)...</td>\n",
              "      <td>NaN</td>\n",
              "    </tr>\n",
              "    <tr>\n",
              "      <th>3</th>\n",
              "      <td>Still Life of a Pineapple</td>\n",
              "      <td>Daniel Braganca</td>\n",
              "      <td>Backbar</td>\n",
              "      <td>Somerville</td>\n",
              "      <td>1.5 oz BarSol Primero Quebranta Pisco, .75 oz ...</td>\n",
              "      <td>NaN</td>\n",
              "      <td>NaN</td>\n",
              "      <td>*Pineapple Syrup:\\n&lt;em&gt;Equal parts pineapple b...</td>\n",
              "      <td>NaN</td>\n",
              "    </tr>\n",
              "    <tr>\n",
              "      <th>4</th>\n",
              "      <td>The Bittered Valley</td>\n",
              "      <td>Nik Virrey</td>\n",
              "      <td>NaN</td>\n",
              "      <td>Seattle</td>\n",
              "      <td>1.25 oz Luxardo Maraschino Liqueur, 4 drops Ac...</td>\n",
              "      <td>NaN</td>\n",
              "      <td>NaN</td>\n",
              "      <td>1st glass ingredients:\\nLuxardo Maraschino, Ac...</td>\n",
              "      <td>NaN</td>\n",
              "    </tr>\n",
              "    <tr>\n",
              "      <th>...</th>\n",
              "      <td>...</td>\n",
              "      <td>...</td>\n",
              "      <td>...</td>\n",
              "      <td>...</td>\n",
              "      <td>...</td>\n",
              "      <td>...</td>\n",
              "      <td>...</td>\n",
              "      <td>...</td>\n",
              "      <td>...</td>\n",
              "    </tr>\n",
              "    <tr>\n",
              "      <th>682</th>\n",
              "      <td>The Negroni Bianco</td>\n",
              "      <td>NaN</td>\n",
              "      <td>NaN</td>\n",
              "      <td>NaN</td>\n",
              "      <td>1.5 oz Luxardo Bitter Bianco, .75 oz Tempus Fu...</td>\n",
              "      <td>NaN</td>\n",
              "      <td>NaN</td>\n",
              "      <td>NaN</td>\n",
              "      <td>NaN</td>\n",
              "    </tr>\n",
              "    <tr>\n",
              "      <th>683</th>\n",
              "      <td>Match Grip Julep</td>\n",
              "      <td>Jarred Weigand</td>\n",
              "      <td>Death &amp; Co.</td>\n",
              "      <td>New York</td>\n",
              "      <td>1.5 oz H by HINE, .5 oz Jamaican Rum, 1 tsp Ca...</td>\n",
              "      <td>NaN</td>\n",
              "      <td>NaN</td>\n",
              "      <td>NaN</td>\n",
              "      <td>NaN</td>\n",
              "    </tr>\n",
              "    <tr>\n",
              "      <th>684</th>\n",
              "      <td>The Dry Cruise</td>\n",
              "      <td>Jacyara de Oliveira</td>\n",
              "      <td>Rob Roy, The Hideout</td>\n",
              "      <td>Seattle</td>\n",
              "      <td>1 oz Luxardo Bitter Bianco, 1 oz Lustau Oloros...</td>\n",
              "      <td>Edible Flower, Straw</td>\n",
              "      <td>NaN</td>\n",
              "      <td>NaN</td>\n",
              "      <td>NaN</td>\n",
              "    </tr>\n",
              "    <tr>\n",
              "      <th>685</th>\n",
              "      <td>Red Hook</td>\n",
              "      <td>Patrick Halloran</td>\n",
              "      <td>Henrietta Red</td>\n",
              "      <td>Nashville</td>\n",
              "      <td>2 oz Rye Whiskey, 5 oz Punt e Mes, .5 oz Luxar...</td>\n",
              "      <td>NaN</td>\n",
              "      <td>NaN</td>\n",
              "      <td>NaN</td>\n",
              "      <td>NaN</td>\n",
              "    </tr>\n",
              "    <tr>\n",
              "      <th>686</th>\n",
              "      <td>Union Jack</td>\n",
              "      <td>Jason Patz</td>\n",
              "      <td>Union Lodge No.1</td>\n",
              "      <td>Denver</td>\n",
              "      <td>.75 oz Luxardo Maraschino Liqueur, .75 oz Gree...</td>\n",
              "      <td>NaN</td>\n",
              "      <td>NaN</td>\n",
              "      <td>NaN</td>\n",
              "      <td>NaN</td>\n",
              "    </tr>\n",
              "  </tbody>\n",
              "</table>\n",
              "<p>687 rows × 9 columns</p>\n",
              "</div>"
            ],
            "text/plain": [
              "                 Cocktail Name  ...                                             Notes\n",
              "0               Flor de Amaras  ...                                               NaN\n",
              "1              The Happy Place  ...  Junipero Gin 20th Anniversary Signature Cocktail\n",
              "2       Bon Voyage Pisco Punch  ...                                               NaN\n",
              "3    Still Life of a Pineapple  ...                                               NaN\n",
              "4          The Bittered Valley  ...                                               NaN\n",
              "..                         ...  ...                                               ...\n",
              "682         The Negroni Bianco  ...                                               NaN\n",
              "683           Match Grip Julep  ...                                               NaN\n",
              "684             The Dry Cruise  ...                                               NaN\n",
              "685                   Red Hook  ...                                               NaN\n",
              "686                 Union Jack  ...                                               NaN\n",
              "\n",
              "[687 rows x 9 columns]"
            ]
          },
          "metadata": {
            "tags": []
          },
          "execution_count": 21
        }
      ]
    },
    {
      "cell_type": "code",
      "metadata": {
        "colab": {
          "base_uri": "https://localhost:8080/",
          "height": 419
        },
        "id": "GBu1aTxocK88",
        "outputId": "4ad3b495-705b-4b63-cbb0-443bcd2aca4f"
      },
      "source": [
        "cocktails_df2"
      ],
      "execution_count": null,
      "outputs": [
        {
          "output_type": "execute_result",
          "data": {
            "text/html": [
              "<div>\n",
              "<style scoped>\n",
              "    .dataframe tbody tr th:only-of-type {\n",
              "        vertical-align: middle;\n",
              "    }\n",
              "\n",
              "    .dataframe tbody tr th {\n",
              "        vertical-align: top;\n",
              "    }\n",
              "\n",
              "    .dataframe thead th {\n",
              "        text-align: right;\n",
              "    }\n",
              "</style>\n",
              "<table border=\"1\" class=\"dataframe\">\n",
              "  <thead>\n",
              "    <tr style=\"text-align: right;\">\n",
              "      <th></th>\n",
              "      <th>Cocktail Name</th>\n",
              "      <th>Ingredients</th>\n",
              "      <th>Preparation</th>\n",
              "    </tr>\n",
              "  </thead>\n",
              "  <tbody>\n",
              "    <tr>\n",
              "      <th>0</th>\n",
              "      <td>155 Belmont</td>\n",
              "      <td>Orange juice,Vodka,Light rum,Dark rum,</td>\n",
              "      <td>Blend with ice. Serve in a wine glass. Garnish...</td>\n",
              "    </tr>\n",
              "    <tr>\n",
              "      <th>1</th>\n",
              "      <td>1-900-FUK-MEUP</td>\n",
              "      <td>Pineapple juice,Cranberry juice,Amaretto,Malib...</td>\n",
              "      <td>Shake ingredients in a mixing tin filled with ...</td>\n",
              "    </tr>\n",
              "    <tr>\n",
              "      <th>2</th>\n",
              "      <td>110 in the shade</td>\n",
              "      <td>Tequila,Lager,</td>\n",
              "      <td>Drop shooter in glass. Fill with beer</td>\n",
              "    </tr>\n",
              "    <tr>\n",
              "      <th>3</th>\n",
              "      <td>151 Florida Bushwacker</td>\n",
              "      <td>Vanilla ice-cream,Coconut liqueur,Milk,Cointre...</td>\n",
              "      <td>Combine all ingredients. Blend until smooth. G...</td>\n",
              "    </tr>\n",
              "    <tr>\n",
              "      <th>4</th>\n",
              "      <td>252</td>\n",
              "      <td>Wild Turkey,151 proof rum,</td>\n",
              "      <td>Add both ingredients to shot glass, shoot, and...</td>\n",
              "    </tr>\n",
              "    <tr>\n",
              "      <th>...</th>\n",
              "      <td>...</td>\n",
              "      <td>...</td>\n",
              "      <td>...</td>\n",
              "    </tr>\n",
              "    <tr>\n",
              "      <th>421</th>\n",
              "      <td>Zima Blaster</td>\n",
              "      <td>Chambord raspberry liqueur,Zima,</td>\n",
              "      <td>Fill glass with ice. Pour in Chambord, then fi...</td>\n",
              "    </tr>\n",
              "    <tr>\n",
              "      <th>422</th>\n",
              "      <td>Zizi Coin-coin</td>\n",
              "      <td>Lemon,Ice,Lemon juice,Cointreau,</td>\n",
              "      <td>Pour 5cl of Cointreau on ice, add 2cl of fresh...</td>\n",
              "    </tr>\n",
              "    <tr>\n",
              "      <th>423</th>\n",
              "      <td>Zippy's Revenge</td>\n",
              "      <td>Kool-Aid,Rum,Amaretto,</td>\n",
              "      <td>Mix Kool-Aid to taste then add Rum and ammaret...</td>\n",
              "    </tr>\n",
              "    <tr>\n",
              "      <th>424</th>\n",
              "      <td>Zimadori Zinger</td>\n",
              "      <td>Zima,Midori melon liqueur,</td>\n",
              "      <td>Pour Zima in a collins glass over ice and then...</td>\n",
              "    </tr>\n",
              "    <tr>\n",
              "      <th>425</th>\n",
              "      <td>Ziemes Martini Apfelsaft</td>\n",
              "      <td>Apple juice,Vermouth,</td>\n",
              "      <td>Serve without ice. At least the juice shold ha...</td>\n",
              "    </tr>\n",
              "  </tbody>\n",
              "</table>\n",
              "<p>426 rows × 3 columns</p>\n",
              "</div>"
            ],
            "text/plain": [
              "                Cocktail Name  ...                                        Preparation\n",
              "0                 155 Belmont  ...  Blend with ice. Serve in a wine glass. Garnish...\n",
              "1              1-900-FUK-MEUP  ...  Shake ingredients in a mixing tin filled with ...\n",
              "2            110 in the shade  ...              Drop shooter in glass. Fill with beer\n",
              "3      151 Florida Bushwacker  ...  Combine all ingredients. Blend until smooth. G...\n",
              "4                         252  ...  Add both ingredients to shot glass, shoot, and...\n",
              "..                        ...  ...                                                ...\n",
              "421              Zima Blaster  ...  Fill glass with ice. Pour in Chambord, then fi...\n",
              "422            Zizi Coin-coin  ...  Pour 5cl of Cointreau on ice, add 2cl of fresh...\n",
              "423           Zippy's Revenge  ...  Mix Kool-Aid to taste then add Rum and ammaret...\n",
              "424           Zimadori Zinger  ...  Pour Zima in a collins glass over ice and then...\n",
              "425  Ziemes Martini Apfelsaft  ...  Serve without ice. At least the juice shold ha...\n",
              "\n",
              "[426 rows x 3 columns]"
            ]
          },
          "metadata": {
            "tags": []
          },
          "execution_count": 22
        }
      ]
    },
    {
      "cell_type": "code",
      "metadata": {
        "id": "uvFKHCqqcN-m"
      },
      "source": [
        "concat_df = pd.concat([cocktails_df1, cocktails_df2], axis=0)"
      ],
      "execution_count": null,
      "outputs": []
    },
    {
      "cell_type": "code",
      "metadata": {
        "colab": {
          "base_uri": "https://localhost:8080/"
        },
        "id": "DxuiPfx_cvsD",
        "outputId": "de2be1cd-eaa9-44d2-ce3d-66c7f94de7e6"
      },
      "source": [
        "concat_df['Cocktail Name'].describe()"
      ],
      "execution_count": null,
      "outputs": [
        {
          "output_type": "execute_result",
          "data": {
            "text/plain": [
              "count        1113\n",
              "unique       1093\n",
              "top       Negroni\n",
              "freq            3\n",
              "Name: Cocktail Name, dtype: object"
            ]
          },
          "metadata": {
            "tags": []
          },
          "execution_count": 31
        }
      ]
    },
    {
      "cell_type": "code",
      "metadata": {
        "id": "bmD4T14CdQWF"
      },
      "source": [
        ""
      ],
      "execution_count": null,
      "outputs": []
    }
  ]
}